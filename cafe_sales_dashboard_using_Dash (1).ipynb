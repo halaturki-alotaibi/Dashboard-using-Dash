{
  "nbformat": 4,
  "nbformat_minor": 0,
  "metadata": {
    "colab": {
      "provenance": []
    },
    "kernelspec": {
      "name": "python3",
      "display_name": "Python 3"
    },
    "language_info": {
      "name": "python"
    }
  },
  "cells": [
    {
      "cell_type": "code",
      "source": [
        "!pip install dash-bootstrap-components"
      ],
      "metadata": {
        "colab": {
          "base_uri": "https://localhost:8080/"
        },
        "collapsed": true,
        "id": "zqCYcH0OH-61",
        "outputId": "8a5be1a8-612a-496a-feff-47ccec49495a"
      },
      "execution_count": 4,
      "outputs": [
        {
          "output_type": "stream",
          "name": "stdout",
          "text": [
            "Requirement already satisfied: dash-bootstrap-components in /usr/local/lib/python3.11/dist-packages (2.0.2)\n",
            "Requirement already satisfied: dash>=3.0.3 in /usr/local/lib/python3.11/dist-packages (from dash-bootstrap-components) (3.0.4)\n",
            "Requirement already satisfied: Flask<3.1,>=1.0.4 in /usr/local/lib/python3.11/dist-packages (from dash>=3.0.3->dash-bootstrap-components) (3.0.3)\n",
            "Requirement already satisfied: Werkzeug<3.1 in /usr/local/lib/python3.11/dist-packages (from dash>=3.0.3->dash-bootstrap-components) (3.0.6)\n",
            "Requirement already satisfied: plotly>=5.0.0 in /usr/local/lib/python3.11/dist-packages (from dash>=3.0.3->dash-bootstrap-components) (5.24.1)\n",
            "Requirement already satisfied: importlib-metadata in /usr/local/lib/python3.11/dist-packages (from dash>=3.0.3->dash-bootstrap-components) (8.7.0)\n",
            "Requirement already satisfied: typing-extensions>=4.1.1 in /usr/local/lib/python3.11/dist-packages (from dash>=3.0.3->dash-bootstrap-components) (4.13.2)\n",
            "Requirement already satisfied: requests in /usr/local/lib/python3.11/dist-packages (from dash>=3.0.3->dash-bootstrap-components) (2.32.3)\n",
            "Requirement already satisfied: retrying in /usr/local/lib/python3.11/dist-packages (from dash>=3.0.3->dash-bootstrap-components) (1.3.4)\n",
            "Requirement already satisfied: nest-asyncio in /usr/local/lib/python3.11/dist-packages (from dash>=3.0.3->dash-bootstrap-components) (1.6.0)\n",
            "Requirement already satisfied: setuptools in /usr/local/lib/python3.11/dist-packages (from dash>=3.0.3->dash-bootstrap-components) (75.2.0)\n",
            "Requirement already satisfied: Jinja2>=3.1.2 in /usr/local/lib/python3.11/dist-packages (from Flask<3.1,>=1.0.4->dash>=3.0.3->dash-bootstrap-components) (3.1.6)\n",
            "Requirement already satisfied: itsdangerous>=2.1.2 in /usr/local/lib/python3.11/dist-packages (from Flask<3.1,>=1.0.4->dash>=3.0.3->dash-bootstrap-components) (2.2.0)\n",
            "Requirement already satisfied: click>=8.1.3 in /usr/local/lib/python3.11/dist-packages (from Flask<3.1,>=1.0.4->dash>=3.0.3->dash-bootstrap-components) (8.1.8)\n",
            "Requirement already satisfied: blinker>=1.6.2 in /usr/local/lib/python3.11/dist-packages (from Flask<3.1,>=1.0.4->dash>=3.0.3->dash-bootstrap-components) (1.9.0)\n",
            "Requirement already satisfied: tenacity>=6.2.0 in /usr/local/lib/python3.11/dist-packages (from plotly>=5.0.0->dash>=3.0.3->dash-bootstrap-components) (9.1.2)\n",
            "Requirement already satisfied: packaging in /usr/local/lib/python3.11/dist-packages (from plotly>=5.0.0->dash>=3.0.3->dash-bootstrap-components) (24.2)\n",
            "Requirement already satisfied: MarkupSafe>=2.1.1 in /usr/local/lib/python3.11/dist-packages (from Werkzeug<3.1->dash>=3.0.3->dash-bootstrap-components) (3.0.2)\n",
            "Requirement already satisfied: zipp>=3.20 in /usr/local/lib/python3.11/dist-packages (from importlib-metadata->dash>=3.0.3->dash-bootstrap-components) (3.21.0)\n",
            "Requirement already satisfied: charset-normalizer<4,>=2 in /usr/local/lib/python3.11/dist-packages (from requests->dash>=3.0.3->dash-bootstrap-components) (3.4.1)\n",
            "Requirement already satisfied: idna<4,>=2.5 in /usr/local/lib/python3.11/dist-packages (from requests->dash>=3.0.3->dash-bootstrap-components) (3.10)\n",
            "Requirement already satisfied: urllib3<3,>=1.21.1 in /usr/local/lib/python3.11/dist-packages (from requests->dash>=3.0.3->dash-bootstrap-components) (2.4.0)\n",
            "Requirement already satisfied: certifi>=2017.4.17 in /usr/local/lib/python3.11/dist-packages (from requests->dash>=3.0.3->dash-bootstrap-components) (2025.4.26)\n",
            "Requirement already satisfied: six>=1.7.0 in /usr/local/lib/python3.11/dist-packages (from retrying->dash>=3.0.3->dash-bootstrap-components) (1.17.0)\n"
          ]
        }
      ]
    },
    {
      "cell_type": "code",
      "source": [
        "import os\n",
        "print(\"Current directory:\", os.getcwd())\n",
        "print(\"Files in current directory:\", os.listdir())\n"
      ],
      "metadata": {
        "colab": {
          "base_uri": "https://localhost:8080/"
        },
        "id": "3bhspBfn_LZF",
        "outputId": "aac09ef2-b5ad-41fa-cc20-b39727fc09bf"
      },
      "execution_count": 5,
      "outputs": [
        {
          "output_type": "stream",
          "name": "stdout",
          "text": [
            "Current directory: /content\n",
            "Files in current directory: ['.config', 'sample_data']\n"
          ]
        }
      ]
    },
    {
      "cell_type": "code",
      "source": [
        "import pandas as pd\n",
        "import plotly.express as px\n",
        "import dash\n",
        "from dash import dcc, html\n",
        "from dash.dependencies import Input, Output\n",
        "import dash_bootstrap_components as dbc\n",
        "\n",
        "# تحميل البيانات\n",
        "df = pd.read_csv(\"/clean_data_for_cafe_sales.csv\")\n",
        "\n",
        "# تحويل التاريخ وتوليد عمود الشهر\n",
        "df['Transaction Date'] = pd.to_datetime(df['Transaction Date'])\n",
        "df['Month'] = df['Transaction Date'].dt.to_period('M').astype(str)\n",
        "\n",
        "# إنشاء التطبيق\n",
        "app = dash.Dash(__name__, external_stylesheets=[dbc.themes.BOOTSTRAP])\n",
        "app.title = \"Cafe Sales Dashboard\"\n",
        "\n",
        "# تخطيط الواجهة\n",
        "app.layout = dbc.Container([\n",
        "    html.H1(\"Cafe Sales Dashboard\", className=\"text-center my-4\"),\n",
        "\n",
        "    # مؤشرات الأداء\n",
        "    dbc.Row([\n",
        "        dbc.Col(html.Div(id=\"total-revenue\", className=\"text-center bg-light p-3 rounded shadow-sm\"), width=4),\n",
        "        dbc.Col(html.Div(id=\"total-orders\", className=\"text-center bg-light p-3 rounded shadow-sm\"), width=4),\n",
        "        dbc.Col(html.Div(id=\"total-items\", className=\"text-center bg-light p-3 rounded shadow-sm\"), width=4),\n",
        "    ], className=\"mb-4\"),\n",
        "\n",
        "    # الفلاتر\n",
        "    dbc.Row([\n",
        "        dbc.Col([\n",
        "            html.Label(\"Select Item:\"),\n",
        "            dcc.Dropdown(\n",
        "                options=[{\"label\": i, \"value\": i} for i in df['Item'].unique()],\n",
        "                id=\"item-filter\",\n",
        "                multi=True\n",
        "            )\n",
        "        ], width=4),\n",
        "        dbc.Col([\n",
        "            html.Label(\"Select Payment Method:\"),\n",
        "            dcc.Dropdown(\n",
        "                options=[{\"label\": i, \"value\": i} for i in df['Payment Method'].unique()],\n",
        "                id=\"payment-filter\",\n",
        "                multi=True\n",
        "            )\n",
        "        ], width=4),\n",
        "        dbc.Col([\n",
        "            html.Label(\"Select Date Range:\"),\n",
        "            dcc.DatePickerRange(\n",
        "                id=\"date-filter\",\n",
        "                start_date=df['Transaction Date'].min(),\n",
        "                end_date=df['Transaction Date'].max(),\n",
        "                display_format=\"YYYY-MM-DD\"\n",
        "            )\n",
        "        ], width=4),\n",
        "    ], className=\"mb-4\"),\n",
        "\n",
        "    # الرسوم البيانية\n",
        "    dbc.Row([\n",
        "        dbc.Col(dcc.Graph(id=\"sales-by-item\"), width=6),\n",
        "        dbc.Col(dcc.Graph(id=\"sales-over-time\"), width=6),\n",
        "    ]),\n",
        "    dbc.Row([\n",
        "        dbc.Col(dcc.Graph(id=\"payment-methods\"), width=6),\n",
        "        dbc.Col(dcc.Graph(id=\"location-distribution\"), width=6),\n",
        "    ]),\n",
        "], fluid=True)\n",
        "\n",
        "# التفاعل\n",
        "@app.callback(\n",
        "    [Output(\"total-revenue\", \"children\"),\n",
        "     Output(\"total-orders\", \"children\"),\n",
        "     Output(\"total-items\", \"children\"),\n",
        "     Output(\"sales-by-item\", \"figure\"),\n",
        "     Output(\"sales-over-time\", \"figure\"),\n",
        "     Output(\"payment-methods\", \"figure\"),\n",
        "     Output(\"location-distribution\", \"figure\")],\n",
        "    [Input(\"item-filter\", \"value\"),\n",
        "     Input(\"payment-filter\", \"value\"),\n",
        "     Input(\"date-filter\", \"start_date\"),\n",
        "     Input(\"date-filter\", \"end_date\")]\n",
        ")\n",
        "def update_dashboard(selected_items, selected_payments, start_date, end_date):\n",
        "    dff = df.copy()\n",
        "    if selected_items:\n",
        "        dff = dff[dff['Item'].isin(selected_items)]\n",
        "    if selected_payments:\n",
        "        dff = dff[dff['Payment Method'].isin(selected_payments)]\n",
        "    dff = dff[(dff['Transaction Date'] >= start_date) & (dff['Transaction Date'] <= end_date)]\n",
        "\n",
        "    # KPIs\n",
        "    total_revenue = f\"Total Revenue: ${dff['Total Spent'].sum():,.2f}\"\n",
        "    total_orders = f\"Total Orders: {dff['Transaction ID'].nunique():,}\"\n",
        "    total_items = f\"Total Items Sold: {int(dff['Quantity'].sum()):,}\"\n",
        "\n",
        "    # Graphs\n",
        "    fig_item = px.bar(\n",
        "        dff.groupby('Item')['Total Spent'].sum().reset_index(),\n",
        "        x='Item', y='Total Spent',\n",
        "        title=\"Sales by Item\", color='Total Spent', color_continuous_scale='Blues'\n",
        "    )\n",
        "    fig_time = px.line(\n",
        "        dff.groupby('Month')['Total Spent'].sum().reset_index(),\n",
        "        x='Month', y='Total Spent',\n",
        "        title=\"Sales Over Time\"\n",
        "    )\n",
        "    fig_payment = px.pie(\n",
        "        dff, names='Payment Method', values='Total Spent',\n",
        "        title=\"Payment Method Distribution\"\n",
        "    )\n",
        "    fig_location = px.pie(\n",
        "        dff, names='Location', values='Total Spent',\n",
        "        title=\"Location Distribution\"\n",
        "    )\n",
        "\n",
        "    return total_revenue, total_orders, total_items, fig_item, fig_time, fig_payment, fig_location\n",
        "\n",
        "# لتشغيل التطبيق\n",
        "if __name__ == '__main__':\n",
        "    app.run(debug=True)\n"
      ],
      "metadata": {
        "colab": {
          "base_uri": "https://localhost:8080/",
          "height": 671
        },
        "id": "THaIm0vKLXLr",
        "outputId": "2457be90-fe1a-44e1-84ce-620f39006cc4"
      },
      "execution_count": 7,
      "outputs": [
        {
          "output_type": "display_data",
          "data": {
            "text/plain": [
              "<IPython.core.display.Javascript object>"
            ],
            "application/javascript": [
              "(async (port, path, width, height, cache, element) => {\n",
              "    if (!google.colab.kernel.accessAllowed && !cache) {\n",
              "      return;\n",
              "    }\n",
              "    element.appendChild(document.createTextNode(''));\n",
              "    const url = await google.colab.kernel.proxyPort(port, {cache});\n",
              "    const iframe = document.createElement('iframe');\n",
              "    iframe.src = new URL(path, url).toString();\n",
              "    iframe.height = height;\n",
              "    iframe.width = width;\n",
              "    iframe.style.border = 0;\n",
              "    iframe.allow = [\n",
              "        'accelerometer',\n",
              "        'autoplay',\n",
              "        'camera',\n",
              "        'clipboard-read',\n",
              "        'clipboard-write',\n",
              "        'gyroscope',\n",
              "        'magnetometer',\n",
              "        'microphone',\n",
              "        'serial',\n",
              "        'usb',\n",
              "        'xr-spatial-tracking',\n",
              "    ].join('; ');\n",
              "    element.appendChild(iframe);\n",
              "  })(8050, \"/\", \"100%\", 650, false, window.element)"
            ]
          },
          "metadata": {}
        }
      ]
    },
    {
      "cell_type": "code",
      "source": [
        "!pip install pyngrok\n",
        "from pyngrok import ngrok\n",
        "import threading\n"
      ],
      "metadata": {
        "colab": {
          "base_uri": "https://localhost:8080/"
        },
        "id": "naV4qwUTQAf0",
        "outputId": "fb422fcc-79a3-4fc8-f7d0-ce61f5af8287"
      },
      "execution_count": 13,
      "outputs": [
        {
          "output_type": "stream",
          "name": "stdout",
          "text": [
            "Requirement already satisfied: pyngrok in /usr/local/lib/python3.11/dist-packages (7.2.7)\n",
            "Requirement already satisfied: PyYAML>=5.1 in /usr/local/lib/python3.11/dist-packages (from pyngrok) (6.0.2)\n"
          ]
        }
      ]
    },
    {
      "cell_type": "code",
      "source": [
        "def run_app():\n",
        "    app.run_server(port=8050)\n",
        "\n",
        "thread = threading.Thread(target=run_app)\n",
        "thread.start()\n",
        "\n",
        "# إنشاء نفق ngrok\n",
        "public_url = ngrok.connect(8050)\n",
        "print(\"Dashboard URL:\", public_url)"
      ],
      "metadata": {
        "colab": {
          "base_uri": "https://localhost:8080/"
        },
        "id": "jYQ6HpeACrYE",
        "outputId": "438a880e-5608-4b1e-af6c-9280930e63f7"
      },
      "execution_count": 15,
      "outputs": [
        {
          "output_type": "stream",
          "name": "stderr",
          "text": [
            "Exception in thread Thread-314 (run_app):\n",
            "Traceback (most recent call last):\n",
            "  File \"/usr/lib/python3.11/threading.py\", line 1045, in _bootstrap_inner\n",
            "    self.run()\n",
            "  File \"/usr/lib/python3.11/threading.py\", line 982, in run\n",
            "    self._target(*self._args, **self._kwargs)\n",
            "  File \"<ipython-input-15-2861e07b0252>\", line 2, in run_app\n",
            "  File \"/usr/local/lib/python3.11/dist-packages/dash/_obsolete.py\", line 22, in __getattr__\n",
            "    raise err.exc(err.message)\n",
            "dash.exceptions.ObsoleteAttributeException: app.run_server has been replaced by app.run\n"
          ]
        },
        {
          "output_type": "stream",
          "name": "stdout",
          "text": [
            "Dashboard URL: NgrokTunnel: \"https://54b7-35-230-30-84.ngrok-free.app\" -> \"http://localhost:8050\"\n"
          ]
        }
      ]
    }
  ]
}